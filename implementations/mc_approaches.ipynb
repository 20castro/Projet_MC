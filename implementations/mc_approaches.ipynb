{
 "cells": [
  {
   "cell_type": "markdown",
   "metadata": {},
   "source": [
    "# MC approaches"
   ]
  },
  {
   "cell_type": "code",
   "execution_count": 3,
   "metadata": {},
   "outputs": [],
   "source": [
    "import numpy as np\n",
    "import matplotlib.pyplot as plt"
   ]
  },
  {
   "cell_type": "markdown",
   "metadata": {},
   "source": [
    "## 1. Naive approach"
   ]
  },
  {
   "cell_type": "code",
   "execution_count": 27,
   "metadata": {},
   "outputs": [],
   "source": [
    "def naive(\n",
    "        n: int,            # number of Monte-Carlo simulations\n",
    "        m: int,            # number of time steps\n",
    "        r: float,          # risk-free interest rate\n",
    "        sigma: float,      # volatility of the underlying\n",
    "        K: float,          # strike of the fixed-strike Asian call\n",
    "        T: float,          # maturity of the option\n",
    "        S0: float          # spot at time t=0\n",
    ") -> tuple[float, float]:  # returns the estimation and the half-length of the 95% confidence interval\n",
    "    h = T/m\n",
    "    dw = np.sqrt(h)*sigma*np.random.randn(m, n) # brownian motion increments x sigma (independent)\n",
    "    wt = np.cumsum(dw, axis=0)                  # brownian motion values for time t = 1, ..., m\n",
    "    w = np.insert(wt, obj=0, values=0, axis=0)  # add W0 = 0 at the top of each column -> shape (m + 1, n)\n",
    "    drift = (r - sigma**2/2)*h*np.arange(m + 1)\n",
    "    s = S0*np.exp(drift + w)                    # trajectory at time t = 0, ..., m\n",
    "    m = s[:-1, ::].mean(axis=0)                 # estimatation of the mean value of the underlying\n",
    "    c = np.exp(-r*T)*np.maximum(m - K, 0)       # price for each simulation\n",
    "    return c.mean(), 1.96*c.std()/np.sqrt(n)"
   ]
  },
  {
   "cell_type": "code",
   "execution_count": null,
   "metadata": {},
   "outputs": [],
   "source": []
  },
  {
   "cell_type": "markdown",
   "metadata": {},
   "source": [
    "## 2. Improved Monte-Carlo"
   ]
  },
  {
   "cell_type": "markdown",
   "metadata": {},
   "source": [
    "### 2.a Trapezoidal method"
   ]
  },
  {
   "cell_type": "code",
   "execution_count": 28,
   "metadata": {},
   "outputs": [],
   "source": [
    "def trapeze(\n",
    "        n: int,            # number of Monte-Carlo simulations\n",
    "        m: int,            # number of time steps\n",
    "        r: float,          # risk-free interest rate\n",
    "        sigma: float,      # volatility of the underlying\n",
    "        K: float,          # strike of the fixed-strike Asian call\n",
    "        T: float,          # maturity of the option\n",
    "        S0: float          # spot at time t=0\n",
    ") -> tuple[float, float]:  # returns the estimation and the half-length of the 95% confidence interval\n",
    "    h = T/m\n",
    "    dw = np.sqrt(h)*sigma*np.random.randn(m, n) # brownian motion increments x sigma (independent)\n",
    "    wt = np.cumsum(dw, axis=0)                  # brownian motion values for time t = 1, ..., m\n",
    "    w = np.insert(wt, obj=0, values=0, axis=0)  # add W0 = 0 at the top of each column -> shape (m + 1, n)\n",
    "    drift = (r - sigma**2/2)*h*np.arange(m + 1)\n",
    "    s = S0*np.exp(drift + w)                    # trajectory at time t = 0, ..., m\n",
    "    e = s[:-1, ::]*(1 + r*h/2 + wt/2)           # AMENDMENT HERE \n",
    "    m = e.mean(axis=0)                          # estimatation of the mean value of the underlying\n",
    "    c = np.exp(-r*T)*np.maximum(m - K, 0)       # price for each simulation\n",
    "    return c.mean(), 1.96*c.std()/np.sqrt(n)"
   ]
  },
  {
   "cell_type": "code",
   "execution_count": null,
   "metadata": {},
   "outputs": [],
   "source": []
  },
  {
   "cell_type": "markdown",
   "metadata": {},
   "source": [
    "### 2.b Conditional realization of the multiplicative correction factor"
   ]
  },
  {
   "cell_type": "code",
   "execution_count": null,
   "metadata": {},
   "outputs": [],
   "source": [
    "def brownian_bridge_simulation(array: np.ndarray) -> np.ndarray:\n",
    "    '''Take as input a (m + 1, n) array containing n trajectories of a Wiener process at m + 1 time steps\n",
    "    and return a (m, n) array containing a realization of the integral of W_u - W_t_k between t_k and t_k+1\n",
    "    for each k between 0 and m - 1 and each trajectory (see the fomrmulation of scheme 3)'''\n",
    "    minc, n = array.shape\n",
    "    m = minc - 1\n",
    "    expectation = ... # formula to be completed\n",
    "    stddev = ...      # formula to be completed\n",
    "    return expectation + stddev*np.random.randn(m, n)"
   ]
  },
  {
   "cell_type": "code",
   "execution_count": null,
   "metadata": {},
   "outputs": [],
   "source": [
    "def two_step_mc(\n",
    "        n: int,            # number of Monte-Carlo simulations\n",
    "        m: int,            # number of time steps\n",
    "        r: float,          # risk-free interest rate\n",
    "        sigma: float,      # volatility of the underlying\n",
    "        K: float,          # strike of the fixed-strike Asian call\n",
    "        T: float,          # maturity of the option\n",
    "        S0: float          # spot at time t=0\n",
    ") -> tuple[float, float]:  # returns the estimation and the half-length of the 95% confidence interval\n",
    "    h = T/m\n",
    "    dw = np.sqrt(h)*sigma*np.random.randn(m, n) # brownian motion increments x sigma (independent)\n",
    "    wt = np.cumsum(dw, axis=0)                  # brownian motion values for time t = 1, ..., m\n",
    "    w = np.insert(wt, obj=0, values=0, axis=0)  # add W0 = 0 at the top of each column -> shape (m + 1, n)\n",
    "    drift = (r - sigma**2/2)*h*np.arange(m + 1)\n",
    "    s = S0*np.exp(drift + w)                    # trajectory at time t = 0, ..., m\n",
    "    real = brownian_bridge_simulation(w)\n",
    "    # BELOW TO BE COMPLETED\n",
    "    e = s[:-1, ::]*(1 + r*h/2 + wt/2)           # AMENDMENT HERE \n",
    "    m = e.mean(axis=0)                          # estimatation of the mean value of the underlying\n",
    "    c = np.exp(-r*T)*np.maximum(m - K, 0)       # price for each simulation\n",
    "    return c.mean(), 1.96*c.std()/np.sqrt(n)"
   ]
  },
  {
   "cell_type": "code",
   "execution_count": null,
   "metadata": {},
   "outputs": [],
   "source": []
  },
  {
   "cell_type": "markdown",
   "metadata": {},
   "source": [
    "## 3. Control variates"
   ]
  },
  {
   "cell_type": "markdown",
   "metadata": {},
   "source": [
    "### 3.a With the naive method"
   ]
  },
  {
   "cell_type": "code",
   "execution_count": null,
   "metadata": {},
   "outputs": [],
   "source": []
  },
  {
   "cell_type": "code",
   "execution_count": null,
   "metadata": {},
   "outputs": [],
   "source": []
  },
  {
   "cell_type": "markdown",
   "metadata": {},
   "source": [
    "### 3.b With the trapezoidal method"
   ]
  },
  {
   "cell_type": "code",
   "execution_count": null,
   "metadata": {},
   "outputs": [],
   "source": []
  },
  {
   "cell_type": "code",
   "execution_count": null,
   "metadata": {},
   "outputs": [],
   "source": []
  },
  {
   "cell_type": "markdown",
   "metadata": {},
   "source": [
    "### 3.c With the \"conditional realization\" method"
   ]
  },
  {
   "cell_type": "code",
   "execution_count": null,
   "metadata": {},
   "outputs": [],
   "source": []
  },
  {
   "cell_type": "code",
   "execution_count": null,
   "metadata": {},
   "outputs": [],
   "source": []
  },
  {
   "cell_type": "markdown",
   "metadata": {},
   "source": [
    "## Test (temporary)"
   ]
  },
  {
   "cell_type": "code",
   "execution_count": 20,
   "metadata": {},
   "outputs": [
    {
     "data": {
      "text/plain": [
       "array([ 7.5, 10. , 12.5])"
      ]
     },
     "execution_count": 20,
     "metadata": {},
     "output_type": "execute_result"
    }
   ],
   "source": [
    "a = np.arange(12).reshape((4, 3))\n",
    "np.diff(a, prepend=0, axis=0)\n",
    "a.cumsum(axis=0).mean(axis=0)"
   ]
  },
  {
   "cell_type": "code",
   "execution_count": 21,
   "metadata": {},
   "outputs": [
    {
     "data": {
      "text/plain": [
       "array([[ 0,  1,  2],\n",
       "       [ 3,  4,  5],\n",
       "       [ 6,  7,  8],\n",
       "       [ 9, 10, 11]])"
      ]
     },
     "execution_count": 21,
     "metadata": {},
     "output_type": "execute_result"
    }
   ],
   "source": [
    "a = np.arange(12).reshape((4, 3))\n",
    "a"
   ]
  },
  {
   "cell_type": "code",
   "execution_count": 25,
   "metadata": {},
   "outputs": [
    {
     "data": {
      "text/plain": [
       "array([[100, 100, 100],\n",
       "       [  0,   1,   2],\n",
       "       [  3,   4,   5],\n",
       "       [  6,   7,   8]])"
      ]
     },
     "execution_count": 25,
     "metadata": {},
     "output_type": "execute_result"
    }
   ],
   "source": [
    "np.insert(a, 0, 100, 0)[:-1, ::]"
   ]
  },
  {
   "cell_type": "code",
   "execution_count": null,
   "metadata": {},
   "outputs": [],
   "source": []
  }
 ],
 "metadata": {
  "kernelspec": {
   "display_name": "datasophia",
   "language": "python",
   "name": "python3"
  },
  "language_info": {
   "codemirror_mode": {
    "name": "ipython",
    "version": 3
   },
   "file_extension": ".py",
   "mimetype": "text/x-python",
   "name": "python",
   "nbconvert_exporter": "python",
   "pygments_lexer": "ipython3",
   "version": "3.9.4"
  }
 },
 "nbformat": 4,
 "nbformat_minor": 2
}
